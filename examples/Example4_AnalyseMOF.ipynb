{
 "cells": [
  {
   "cell_type": "markdown",
   "metadata": {},
   "source": [
    "# Example 4\n",
    "Although pywindow software is intended on the analysis of discrete units (molecules), there is some functionality that is easily transferable for the analysis of periodic systems like MOFs, however in a non-periodic way. \n",
    "\n",
    "The Cartesian coordinates of a MOF where extracted from CCDC refcode: MIBQAR (using Materials Studio v7.0.200).\n",
    "\n",
    "The MOF coordinates include the cage (cavity and it's immidate chemical seroudings) to be analysed (see data/MIBQAR.pdb file), this way we can use the pywindow utility to calculate cavities and windows as for discrete molecules. "
   ]
  },
  {
   "cell_type": "code",
   "execution_count": 1,
   "metadata": {
    "ExecuteTime": {
     "end_time": "2018-07-17T13:18:44.413784Z",
     "start_time": "2018-07-17T13:18:43.752314Z"
    },
    "collapsed": true,
    "run_control": {
     "frozen": false,
     "read_only": false
    }
   },
   "outputs": [],
   "source": [
    "import pywindow as pw"
   ]
  },
  {
   "cell_type": "markdown",
   "metadata": {},
   "source": [
    "I load the PDB file as a MolecularSystem object and then I transfer it into Molecule() class, to perform the analysis as if on a 'discrete molecule'"
   ]
  },
  {
   "cell_type": "code",
   "execution_count": 2,
   "metadata": {
    "ExecuteTime": {
     "end_time": "2018-07-17T13:18:50.452518Z",
     "start_time": "2018-07-17T13:18:50.440599Z"
    },
    "collapsed": true,
    "run_control": {
     "frozen": false,
     "read_only": false
    }
   },
   "outputs": [],
   "source": [
    "molsys = pw.MolecularSystem.load_file(\"./data/input/MIBQAR.pdb\")\n",
    "mol = molsys.system_to_molecule()"
   ]
  },
  {
   "cell_type": "markdown",
   "metadata": {},
   "source": [
    "I calculate pore volume, windows and COM:"
   ]
  },
  {
   "cell_type": "code",
   "execution_count": 3,
   "metadata": {
    "ExecuteTime": {
     "end_time": "2018-07-17T13:18:52.281796Z",
     "start_time": "2018-07-17T13:18:51.966984Z"
    },
    "run_control": {
     "frozen": false,
     "read_only": false
    }
   },
   "outputs": [
    {
     "data": {
      "text/plain": [
       "968.94312796544568"
      ]
     },
     "execution_count": 3,
     "metadata": {},
     "output_type": "execute_result"
    }
   ],
   "source": [
    "mol.calculate_pore_volume_opt()"
   ]
  },
  {
   "cell_type": "code",
   "execution_count": 4,
   "metadata": {
    "ExecuteTime": {
     "end_time": "2018-07-17T13:18:58.395681Z",
     "start_time": "2018-07-17T13:18:52.950909Z"
    },
    "run_control": {
     "frozen": false,
     "read_only": false
    }
   },
   "outputs": [
    {
     "data": {
      "text/plain": [
       "array([ 7.94805059,  7.9373968 ,  7.94278598,  7.95022874,  7.96284952,\n",
       "        7.94711847])"
      ]
     },
     "execution_count": 4,
     "metadata": {},
     "output_type": "execute_result"
    }
   ],
   "source": [
    "mol.calculate_windows()"
   ]
  },
  {
   "cell_type": "code",
   "execution_count": 5,
   "metadata": {
    "ExecuteTime": {
     "end_time": "2018-07-17T13:18:58.409697Z",
     "start_time": "2018-07-17T13:18:58.399216Z"
    },
    "run_control": {
     "frozen": false,
     "read_only": false
    }
   },
   "outputs": [
    {
     "data": {
      "text/plain": [
       "array([ 12.9459922,  12.9459922,  12.9459922])"
      ]
     },
     "execution_count": 5,
     "metadata": {},
     "output_type": "execute_result"
    }
   ],
   "source": [
    "mol.calculate_centre_of_mass()"
   ]
  },
  {
   "cell_type": "markdown",
   "metadata": {},
   "source": [
    "For validation purposes, it is possible to dump the molecule coordinates with the centres coordinates for the cavity (Neon atom) and the centres of windows (Argon atoms) to quickly visualise. For this we use dump_molecule() function and include_coms kwarg set to True."
   ]
  },
  {
   "cell_type": "code",
   "execution_count": 6,
   "metadata": {
    "ExecuteTime": {
     "end_time": "2018-07-17T13:19:19.120236Z",
     "start_time": "2018-07-17T13:19:19.104642Z"
    },
    "collapsed": true,
    "run_control": {
     "frozen": false,
     "read_only": false
    }
   },
   "outputs": [],
   "source": [
    "mol.dump_molecule(\n",
    "    \"./data/output/MIBQAR_out.pdb\", include_coms=True, override=True\n",
    ")"
   ]
  },
  {
   "cell_type": "code",
   "execution_count": null,
   "metadata": {
    "collapsed": true,
    "run_control": {
     "frozen": false,
     "read_only": false
    }
   },
   "outputs": [],
   "source": []
  }
 ],
 "metadata": {
  "kernelspec": {
   "display_name": "Python [default]",
   "language": "python",
   "name": "python3"
  },
  "language_info": {
   "codemirror_mode": {
    "name": "ipython",
    "version": 3
   },
   "file_extension": ".py",
   "mimetype": "text/x-python",
   "name": "python",
   "nbconvert_exporter": "python",
   "pygments_lexer": "ipython3",
   "version": "3.5.4"
  }
 },
 "nbformat": 4,
 "nbformat_minor": 2
}
