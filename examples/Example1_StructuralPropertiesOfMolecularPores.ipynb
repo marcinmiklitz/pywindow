{
 "cells": [
  {
   "cell_type": "markdown",
   "metadata": {},
   "source": [
    "# Example 1\n",
    "\n",
    "We show basic usage of pywindow package to load an XYZ file containing Cartesian coordinates of a single molecule. <br> The Cartesian coordinates of a molecule where extracted from CIF files (using Materials Studio v7.0.200) for CSD refcodes: \n",
    "\n",
    "PUDXES, YAQHOQ, BATVUP, NUXHIZ, REYMAL <br> \n"
   ]
  },
  {
   "cell_type": "code",
   "execution_count": 1,
   "metadata": {
    "ExecuteTime": {
     "end_time": "2018-07-17T13:01:24.779070Z",
     "start_time": "2018-07-17T13:01:19.768378Z"
    },
    "collapsed": true,
    "run_control": {
     "frozen": false,
     "read_only": false
    }
   },
   "outputs": [],
   "source": [
    "import pywindow as pw"
   ]
  },
  {
   "cell_type": "markdown",
   "metadata": {
    "ExecuteTime": {
     "end_time": "2017-08-01T14:38:10.179318Z",
     "start_time": "2017-08-01T14:38:10.175955Z"
    }
   },
   "source": [
    "### Load a PDB file and create a MolecularSystem object."
   ]
  },
  {
   "cell_type": "code",
   "execution_count": 2,
   "metadata": {
    "ExecuteTime": {
     "end_time": "2018-07-17T13:01:24.789989Z",
     "start_time": "2018-07-17T13:01:24.783030Z"
    },
    "collapsed": true,
    "run_control": {
     "frozen": false,
     "read_only": false
    }
   },
   "outputs": [],
   "source": [
    "molsys = pw.MolecularSystem.load_file(\"data/input/PUDXES.xyz\")"
   ]
  },
  {
   "cell_type": "markdown",
   "metadata": {
    "ExecuteTime": {
     "end_time": "2017-08-01T15:01:54.988786Z",
     "start_time": "2017-08-01T15:01:54.985407Z"
    }
   },
   "source": [
    "### If no preprocessing of the structure is required we can pass it directly to the Molecule class using MolecularSystem.system_to_molecule method."
   ]
  },
  {
   "cell_type": "code",
   "execution_count": 3,
   "metadata": {
    "ExecuteTime": {
     "end_time": "2018-07-17T13:01:24.800861Z",
     "start_time": "2018-07-17T13:01:24.793644Z"
    },
    "collapsed": true,
    "run_control": {
     "frozen": false,
     "read_only": false
    }
   },
   "outputs": [],
   "source": [
    "mol = molsys.system_to_molecule()"
   ]
  },
  {
   "cell_type": "markdown",
   "metadata": {
    "ExecuteTime": {
     "end_time": "2017-08-01T15:02:51.567242Z",
     "start_time": "2017-08-01T15:02:51.563708Z"
    }
   },
   "source": [
    "### We can perform each structural analysis using various Molecule class' methods"
   ]
  },
  {
   "cell_type": "code",
   "execution_count": 4,
   "metadata": {
    "ExecuteTime": {
     "end_time": "2018-07-17T13:01:24.826797Z",
     "start_time": "2018-07-17T13:01:24.804834Z"
    },
    "run_control": {
     "frozen": false,
     "read_only": false
    }
   },
   "outputs": [
    {
     "data": {
      "text/plain": [
       "array([ 12.4,  12.4,  12.4])"
      ]
     },
     "execution_count": 4,
     "metadata": {},
     "output_type": "execute_result"
    }
   ],
   "source": [
    "mol.calculate_centre_of_mass()"
   ]
  },
  {
   "cell_type": "code",
   "execution_count": 5,
   "metadata": {
    "ExecuteTime": {
     "end_time": "2018-07-17T13:01:25.083456Z",
     "start_time": "2018-07-17T13:01:24.831436Z"
    },
    "run_control": {
     "frozen": false,
     "read_only": false
    }
   },
   "outputs": [
    {
     "data": {
      "text/plain": [
       "22.179369990077188"
      ]
     },
     "execution_count": 5,
     "metadata": {},
     "output_type": "execute_result"
    }
   ],
   "source": [
    "mol.calculate_maximum_diameter()"
   ]
  },
  {
   "cell_type": "code",
   "execution_count": 6,
   "metadata": {
    "ExecuteTime": {
     "end_time": "2018-07-17T13:01:25.537762Z",
     "start_time": "2018-07-17T13:01:25.087111Z"
    },
    "run_control": {
     "frozen": false,
     "read_only": false
    }
   },
   "outputs": [
    {
     "data": {
      "text/plain": [
       "13.832017514255472"
      ]
     },
     "execution_count": 6,
     "metadata": {},
     "output_type": "execute_result"
    }
   ],
   "source": [
    "mol.calculate_average_diameter()"
   ]
  },
  {
   "cell_type": "code",
   "execution_count": 7,
   "metadata": {
    "ExecuteTime": {
     "end_time": "2018-07-17T13:01:25.551607Z",
     "start_time": "2018-07-17T13:01:25.541609Z"
    },
    "run_control": {
     "frozen": false,
     "read_only": false
    }
   },
   "outputs": [
    {
     "data": {
      "text/plain": [
       "5.3970201773100221"
      ]
     },
     "execution_count": 7,
     "metadata": {},
     "output_type": "execute_result"
    }
   ],
   "source": [
    "mol.calculate_pore_diameter()"
   ]
  },
  {
   "cell_type": "code",
   "execution_count": 8,
   "metadata": {
    "ExecuteTime": {
     "end_time": "2018-07-17T13:01:25.565353Z",
     "start_time": "2018-07-17T13:01:25.555199Z"
    },
    "run_control": {
     "frozen": false,
     "read_only": false
    }
   },
   "outputs": [
    {
     "data": {
      "text/plain": [
       "82.311543851544172"
      ]
     },
     "execution_count": 8,
     "metadata": {},
     "output_type": "execute_result"
    }
   ],
   "source": [
    "mol.calculate_pore_volume()"
   ]
  },
  {
   "cell_type": "code",
   "execution_count": 9,
   "metadata": {
    "ExecuteTime": {
     "end_time": "2018-07-17T13:01:25.716353Z",
     "start_time": "2018-07-17T13:01:25.569073Z"
    },
    "run_control": {
     "frozen": false,
     "read_only": false
    }
   },
   "outputs": [
    {
     "data": {
      "text/plain": [
       "5.3970201773100221"
      ]
     },
     "execution_count": 9,
     "metadata": {},
     "output_type": "execute_result"
    }
   ],
   "source": [
    "mol.calculate_pore_diameter_opt()"
   ]
  },
  {
   "cell_type": "code",
   "execution_count": 10,
   "metadata": {
    "ExecuteTime": {
     "end_time": "2018-07-17T13:01:26.066885Z",
     "start_time": "2018-07-17T13:01:26.009919Z"
    },
    "run_control": {
     "frozen": false,
     "read_only": false
    }
   },
   "outputs": [
    {
     "data": {
      "text/plain": [
       "82.311543851544172"
      ]
     },
     "execution_count": 10,
     "metadata": {},
     "output_type": "execute_result"
    }
   ],
   "source": [
    "mol.calculate_pore_volume_opt()"
   ]
  },
  {
   "cell_type": "code",
   "execution_count": 11,
   "metadata": {
    "ExecuteTime": {
     "end_time": "2018-07-17T13:01:28.742488Z",
     "start_time": "2018-07-17T13:01:26.513019Z"
    },
    "run_control": {
     "frozen": false,
     "read_only": false
    }
   },
   "outputs": [
    {
     "data": {
      "text/plain": [
       "array([ 3.63778746,  3.63562103,  3.62896512,  3.63707237])"
      ]
     },
     "execution_count": 11,
     "metadata": {},
     "output_type": "execute_result"
    }
   ],
   "source": [
    "mol.calculate_windows()"
   ]
  },
  {
   "cell_type": "markdown",
   "metadata": {},
   "source": [
    "### All calculated values are stored in the properties attribute of the Molecule object which is simply a dictionary updated each time a new property is calculated or re-calculated"
   ]
  },
  {
   "cell_type": "code",
   "execution_count": 12,
   "metadata": {
    "ExecuteTime": {
     "end_time": "2018-07-17T13:01:28.757225Z",
     "start_time": "2018-07-17T13:01:28.745961Z"
    },
    "run_control": {
     "frozen": false,
     "read_only": false
    }
   },
   "outputs": [
    {
     "data": {
      "text/plain": [
       "{'centre_of_mass': array([ 12.4,  12.4,  12.4]),\n",
       " 'maximum_diameter': {'atom_1': 12,\n",
       "  'atom_2': 54,\n",
       "  'diameter': 22.179369990077188},\n",
       " 'no_of_atoms': 168,\n",
       " 'pore_diameter': {'atom': 29, 'diameter': 5.3970201773100221},\n",
       " 'pore_diameter_opt': {'atom_1': 29,\n",
       "  'centre_of_mass': array([ 12.4,  12.4,  12.4]),\n",
       "  'diameter': 5.3970201773100221},\n",
       " 'pore_volume': 82.311543851544172,\n",
       " 'pore_volume_opt': 82.311543851544172,\n",
       " 'windows': {'centre_of_mass': array([[ 10.77105705,  10.77097707,  14.02893956],\n",
       "         [ 14.01544846,  14.0154126 ,  14.01539845],\n",
       "         [ 13.92965524,  10.87029766,  10.87034163],\n",
       "         [ 10.77542236,  14.02453217,  10.77546634]]),\n",
       "  'diameters': array([ 3.63778746,  3.63562103,  3.62896512,  3.63707237])}}"
      ]
     },
     "execution_count": 12,
     "metadata": {},
     "output_type": "execute_result"
    }
   ],
   "source": [
    "mol.properties"
   ]
  },
  {
   "cell_type": "markdown",
   "metadata": {},
   "source": [
    "### Alternatively all properties can be calculated at once with the full_analysis() method of the Molecule class"
   ]
  },
  {
   "cell_type": "code",
   "execution_count": 13,
   "metadata": {
    "ExecuteTime": {
     "end_time": "2018-07-17T13:01:31.082744Z",
     "start_time": "2018-07-17T13:01:28.761486Z"
    },
    "run_control": {
     "frozen": false,
     "read_only": false
    }
   },
   "outputs": [
    {
     "data": {
      "text/plain": [
       "{'centre_of_mass': array([ 12.4,  12.4,  12.4]),\n",
       " 'maximum_diameter': {'atom_1': 12,\n",
       "  'atom_2': 54,\n",
       "  'diameter': 22.179369990077188},\n",
       " 'no_of_atoms': 168,\n",
       " 'pore_diameter': {'atom': 29, 'diameter': 5.3970201773100221},\n",
       " 'pore_diameter_opt': {'atom_1': 29,\n",
       "  'centre_of_mass': array([ 12.4,  12.4,  12.4]),\n",
       "  'diameter': 5.3970201773100221},\n",
       " 'pore_volume': 82.311543851544172,\n",
       " 'pore_volume_opt': 82.311543851544172,\n",
       " 'windows': {'centre_of_mass': array([[ 10.77105705,  10.77097707,  14.02893956],\n",
       "         [ 14.01544846,  14.0154126 ,  14.01539845],\n",
       "         [ 13.92965524,  10.87029766,  10.87034163],\n",
       "         [ 10.77542236,  14.02453217,  10.77546634]]),\n",
       "  'diameters': array([ 3.63778746,  3.63562103,  3.62896512,  3.63707237])}}"
      ]
     },
     "execution_count": 13,
     "metadata": {},
     "output_type": "execute_result"
    }
   ],
   "source": [
    "mol.full_analysis()"
   ]
  },
  {
   "cell_type": "markdown",
   "metadata": {
    "ExecuteTime": {
     "end_time": "2017-08-01T15:07:02.134807Z",
     "start_time": "2017-08-01T15:07:02.131091Z"
    }
   },
   "source": [
    "### The properties dictionary can be dumped into a JSON file format."
   ]
  },
  {
   "cell_type": "code",
   "execution_count": 14,
   "metadata": {
    "ExecuteTime": {
     "end_time": "2018-07-17T13:01:31.092061Z",
     "start_time": "2018-07-17T13:01:31.086420Z"
    },
    "collapsed": true,
    "run_control": {
     "frozen": false,
     "read_only": false
    }
   },
   "outputs": [],
   "source": [
    "mol.dump_properties_json(\"./data/output/PUDXES_out.json\", override=True)"
   ]
  },
  {
   "cell_type": "markdown",
   "metadata": {
    "ExecuteTime": {
     "end_time": "2017-08-01T15:07:49.879570Z",
     "start_time": "2017-08-01T15:07:49.876072Z"
    }
   },
   "source": [
    "### The molecule's Cartesian coordinates can be dumped as well with an overlay of window centres and COMs (include_coms=True).\n",
    "\n",
    "He - for the centre of mass\n",
    "\n",
    "Ne - for the centre of the optimised cavity\n",
    "\n",
    "Ar - for the centres of each found window"
   ]
  },
  {
   "cell_type": "code",
   "execution_count": 15,
   "metadata": {
    "ExecuteTime": {
     "end_time": "2018-07-17T13:01:31.105454Z",
     "start_time": "2018-07-17T13:01:31.095677Z"
    },
    "collapsed": true,
    "run_control": {
     "frozen": false,
     "read_only": false
    }
   },
   "outputs": [],
   "source": [
    "mol.dump_molecule(\n",
    "    \"./data/output/PUDXES_out.pdb\", include_coms=True, override=True\n",
    ")"
   ]
  },
  {
   "cell_type": "markdown",
   "metadata": {},
   "source": [
    "## Other examples with varying properties"
   ]
  },
  {
   "cell_type": "markdown",
   "metadata": {},
   "source": [
    "### YAQHOQ"
   ]
  },
  {
   "cell_type": "code",
   "execution_count": 16,
   "metadata": {
    "ExecuteTime": {
     "end_time": "2018-07-17T13:01:32.756394Z",
     "start_time": "2018-07-17T13:01:32.089382Z"
    },
    "run_control": {
     "frozen": false,
     "read_only": false
    }
   },
   "outputs": [
    {
     "data": {
      "text/plain": [
       "{'centre_of_mass': array([ -1.66666667e-05,  -4.92980557e-18,   3.33333333e-05]),\n",
       " 'maximum_diameter': {'atom_1': 43,\n",
       "  'atom_2': 54,\n",
       "  'diameter': 10.495187523948891},\n",
       " 'no_of_atoms': 60,\n",
       " 'pore_diameter': {'atom': 11, 'diameter': 3.6101494139251806},\n",
       " 'pore_diameter_opt': {'atom_1': 42,\n",
       "  'centre_of_mass': array([ 0.00332103,  0.01618183, -0.00053063]),\n",
       "  'diameter': 3.6289842522285096},\n",
       " 'pore_volume': 24.636224433953796,\n",
       " 'pore_volume_opt': 25.023835308827408,\n",
       " 'windows': {'centre_of_mass': None, 'diameters': None}}"
      ]
     },
     "execution_count": 16,
     "metadata": {},
     "output_type": "execute_result"
    }
   ],
   "source": [
    "molsys = pw.MolecularSystem.load_file(\"data/input/YAQHOQ.xyz\")\n",
    "mol = molsys.system_to_molecule()\n",
    "mol.full_analysis()"
   ]
  },
  {
   "cell_type": "code",
   "execution_count": 17,
   "metadata": {
    "ExecuteTime": {
     "end_time": "2018-07-17T13:01:32.768062Z",
     "start_time": "2018-07-17T13:01:32.759682Z"
    },
    "collapsed": true,
    "run_control": {
     "frozen": false,
     "read_only": false
    }
   },
   "outputs": [],
   "source": [
    "mol.dump_properties_json(\"./data/output/YAQHOQ_out.json\", override=True)\n",
    "mol.dump_molecule(\n",
    "    \"./data/output/YAQHOQ_out.pdb\", include_coms=True, override=True\n",
    ")"
   ]
  },
  {
   "cell_type": "markdown",
   "metadata": {},
   "source": [
    "### BATVUP"
   ]
  },
  {
   "cell_type": "code",
   "execution_count": 18,
   "metadata": {
    "ExecuteTime": {
     "end_time": "2018-07-17T13:01:34.809557Z",
     "start_time": "2018-07-17T13:01:33.641089Z"
    },
    "run_control": {
     "frozen": false,
     "read_only": false
    }
   },
   "outputs": [
    {
     "data": {
      "text/plain": [
       "{'centre_of_mass': array([  9.78711345,   4.8907307 ,  10.42542589]),\n",
       " 'maximum_diameter': {'atom_1': 32,\n",
       "  'atom_2': 84,\n",
       "  'diameter': 14.779624994419478},\n",
       " 'no_of_atoms': 108,\n",
       " 'pore_diameter': {'atom': 106, 'diameter': 4.8365345185135187},\n",
       " 'pore_diameter_opt': {'atom_1': 105,\n",
       "  'centre_of_mass': array([  9.78711515,   4.87112105,  10.47998553]),\n",
       "  'diameter': 4.952487825035},\n",
       " 'pore_volume': 59.23815140453344,\n",
       " 'pore_volume_opt': 63.601721675049134,\n",
       " 'windows': {'centre_of_mass': array([[  9.50377026,   7.1542064 ,  12.84136045],\n",
       "         [  9.25703433,   2.72286828,   8.13923095]]),\n",
       "  'diameters': array([ 3.72937988,  3.34146021])}}"
      ]
     },
     "execution_count": 18,
     "metadata": {},
     "output_type": "execute_result"
    }
   ],
   "source": [
    "molsys = pw.MolecularSystem.load_file(\"data/input/BATVUP.xyz\")\n",
    "mol = molsys.system_to_molecule()\n",
    "mol.full_analysis()"
   ]
  },
  {
   "cell_type": "code",
   "execution_count": 19,
   "metadata": {
    "ExecuteTime": {
     "end_time": "2018-07-17T13:01:34.822725Z",
     "start_time": "2018-07-17T13:01:34.812944Z"
    },
    "collapsed": true,
    "run_control": {
     "frozen": false,
     "read_only": false
    }
   },
   "outputs": [],
   "source": [
    "mol.dump_properties_json(\"./data/output/BATVUP_out.json\", override=True)\n",
    "mol.dump_molecule(\n",
    "    \"./data/output/BATVUP_out.pdb\", include_coms=True, override=True\n",
    ")"
   ]
  },
  {
   "cell_type": "markdown",
   "metadata": {
    "ExecuteTime": {
     "end_time": "2018-07-17T12:58:51.361390Z",
     "start_time": "2018-07-17T12:58:51.356777Z"
    }
   },
   "source": [
    "### NUXHIZ"
   ]
  },
  {
   "cell_type": "code",
   "execution_count": 20,
   "metadata": {
    "ExecuteTime": {
     "end_time": "2018-07-17T13:01:37.417905Z",
     "start_time": "2018-07-17T13:01:35.153462Z"
    },
    "run_control": {
     "frozen": false,
     "read_only": false
    }
   },
   "outputs": [
    {
     "data": {
      "text/plain": [
       "{'centre_of_mass': array([  8.54082679,  11.35269286,  19.7892421 ]),\n",
       " 'maximum_diameter': {'atom_1': 43,\n",
       "  'atom_2': 57,\n",
       "  'diameter': 18.586437224893469},\n",
       " 'no_of_atoms': 138,\n",
       " 'pore_diameter': {'atom': 17, 'diameter': 8.7465283605673907},\n",
       " 'pore_diameter_opt': {'atom_1': 77,\n",
       "  'centre_of_mass': array([  8.32816863,  11.52058165,  19.62167738]),\n",
       "  'diameter': 8.963340092632194},\n",
       " 'pore_volume': 350.35292555652876,\n",
       " 'pore_volume_opt': 377.05807616806027,\n",
       " 'windows': {'centre_of_mass': array([[ 11.83772373,  11.26384234,  22.41304403],\n",
       "         [  6.14465038,  15.40381028,  19.5164307 ],\n",
       "         [  6.80395224,   6.7378818 ,  17.72154653]]),\n",
       "  'diameters': array([ 6.5036498 ,  7.90390212,  7.26955977])}}"
      ]
     },
     "execution_count": 20,
     "metadata": {},
     "output_type": "execute_result"
    }
   ],
   "source": [
    "molsys = pw.MolecularSystem.load_file(\"data/input/NUXHIZ.xyz\")\n",
    "mol = molsys.system_to_molecule()\n",
    "mol.full_analysis()"
   ]
  },
  {
   "cell_type": "code",
   "execution_count": 21,
   "metadata": {
    "ExecuteTime": {
     "end_time": "2018-07-17T13:01:37.432251Z",
     "start_time": "2018-07-17T13:01:37.421539Z"
    },
    "collapsed": true,
    "run_control": {
     "frozen": false,
     "read_only": false
    }
   },
   "outputs": [],
   "source": [
    "mol.dump_properties_json(\"./data/output/NUXHIZ_out.json\", override=True)\n",
    "mol.dump_molecule(\n",
    "    \"./data/output/NUXHIZ_out.pdb\", include_coms=True, override=True\n",
    ")"
   ]
  },
  {
   "cell_type": "markdown",
   "metadata": {},
   "source": [
    "### REYMAL"
   ]
  },
  {
   "cell_type": "code",
   "execution_count": 22,
   "metadata": {
    "ExecuteTime": {
     "end_time": "2018-07-17T13:01:44.291859Z",
     "start_time": "2018-07-17T13:01:37.435805Z"
    },
    "run_control": {
     "frozen": false,
     "read_only": false
    }
   },
   "outputs": [
    {
     "data": {
      "text/plain": [
       "{'centre_of_mass': array([  1.28912864e+01,   1.28912864e+01,   2.47150281e-16]),\n",
       " 'maximum_diameter': {'atom_1': 75,\n",
       "  'atom_2': 192,\n",
       "  'diameter': 33.957689421982842},\n",
       " 'no_of_atoms': 468,\n",
       " 'pore_diameter': {'atom': 280, 'diameter': 13.756212487538123},\n",
       " 'pore_diameter_opt': {'atom_1': 397,\n",
       "  'centre_of_mass': array([  1.28908948e+01,   1.28912367e+01,  -5.68438037e-09]),\n",
       "  'diameter': 13.756740717062886},\n",
       " 'pore_volume': 1362.9980958535011,\n",
       " 'pore_volume_opt': 1363.155116577926,\n",
       " 'windows': {'centre_of_mass': array([[ 13.00075871,  12.76532658,   6.3942579 ],\n",
       "         [ 18.1416144 ,  16.36599292,   0.13591969],\n",
       "         [ 16.38473116,   7.61300697,  -0.13630532],\n",
       "         [  7.75762191,   9.49381837,   0.13394668],\n",
       "         [  9.30996408,  18.29858222,  -0.13816557],\n",
       "         [ 13.01413956,  12.99784252,  -6.30126427]]),\n",
       "  'diameters': array([ 9.05946332,  9.17248458,  9.17507493,  9.16546452,  9.19218971,\n",
       "          9.05390927])}}"
      ]
     },
     "execution_count": 22,
     "metadata": {},
     "output_type": "execute_result"
    }
   ],
   "source": [
    "molsys = pw.MolecularSystem.load_file(\"data/input/REYMAL.xyz\")\n",
    "mol = molsys.system_to_molecule()\n",
    "mol.full_analysis()"
   ]
  },
  {
   "cell_type": "code",
   "execution_count": 23,
   "metadata": {
    "ExecuteTime": {
     "end_time": "2018-07-17T13:01:44.313988Z",
     "start_time": "2018-07-17T13:01:44.295734Z"
    },
    "collapsed": true,
    "run_control": {
     "frozen": false,
     "read_only": false
    }
   },
   "outputs": [],
   "source": [
    "mol.dump_properties_json(\"./data/output/REYMAL_out.json\", override=True)\n",
    "mol.dump_molecule(\n",
    "    \"./data/output/REYMAL_out.pdb\", include_coms=True, override=True\n",
    ")"
   ]
  }
 ],
 "metadata": {
  "kernelspec": {
   "display_name": "Python [default]",
   "language": "python",
   "name": "python3"
  },
  "language_info": {
   "codemirror_mode": {
    "name": "ipython",
    "version": 3
   },
   "file_extension": ".py",
   "mimetype": "text/x-python",
   "name": "python",
   "nbconvert_exporter": "python",
   "pygments_lexer": "ipython3",
   "version": "3.5.4"
  }
 },
 "nbformat": 4,
 "nbformat_minor": 2
}
