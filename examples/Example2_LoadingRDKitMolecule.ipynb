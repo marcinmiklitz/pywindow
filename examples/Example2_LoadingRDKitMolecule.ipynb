{
 "cells": [
  {
   "cell_type": "code",
   "execution_count": 1,
   "metadata": {
    "ExecuteTime": {
     "end_time": "2018-07-19T12:57:55.071261+01:00",
     "start_time": "2018-07-19T12:57:46.625274"
    },
    "collapsed": true,
    "run_control": {
     "frozen": false,
     "read_only": false
    }
   },
   "outputs": [],
   "source": [
    "from rdkit import Chem\n",
    "\n",
    "from pywindow import MolecularSystem"
   ]
  },
  {
   "cell_type": "code",
   "execution_count": 2,
   "metadata": {
    "ExecuteTime": {
     "end_time": "2018-07-19T12:57:56.862485+01:00",
     "start_time": "2018-07-19T12:57:56.823678"
    },
    "collapsed": true,
    "run_control": {
     "frozen": false,
     "read_only": false
    }
   },
   "outputs": [],
   "source": [
    "rdkit_mol = Chem.MolFromMol2File(\"data/input/PUDXES.mol2\")"
   ]
  },
  {
   "cell_type": "code",
   "execution_count": 3,
   "metadata": {
    "ExecuteTime": {
     "end_time": "2018-07-19T12:58:08.761750+01:00",
     "start_time": "2018-07-19T12:58:08.744781"
    }
   },
   "outputs": [
    {
     "data": {
      "text/plain": [
       "<rdkit.Chem.rdchem.Mol at 0x11d78ddf0>"
      ]
     },
     "execution_count": 3,
     "metadata": {},
     "output_type": "execute_result"
    }
   ],
   "source": [
    "rdkit_mol"
   ]
  },
  {
   "cell_type": "code",
   "execution_count": 4,
   "metadata": {
    "ExecuteTime": {
     "end_time": "2018-07-17T14:17:28.466092+01:00",
     "start_time": "2018-07-17T14:17:28.427723"
    },
    "collapsed": true,
    "run_control": {
     "frozen": false,
     "read_only": false
    }
   },
   "outputs": [],
   "source": [
    "molsys = MolecularSystem.load_rdkit_mol(rdkit_mol)"
   ]
  },
  {
   "cell_type": "code",
   "execution_count": 5,
   "metadata": {
    "ExecuteTime": {
     "end_time": "2018-07-17T14:17:29.407435+01:00",
     "start_time": "2018-07-17T14:17:29.403512"
    },
    "collapsed": true,
    "run_control": {
     "frozen": false,
     "read_only": false
    }
   },
   "outputs": [],
   "source": [
    "mol = molsys.system_to_molecule()"
   ]
  },
  {
   "cell_type": "code",
   "execution_count": 6,
   "metadata": {
    "ExecuteTime": {
     "end_time": "2018-07-17T14:17:32.756768+01:00",
     "start_time": "2018-07-17T14:17:30.331413"
    },
    "run_control": {
     "frozen": false,
     "read_only": false
    }
   },
   "outputs": [
    {
     "data": {
      "text/plain": [
       "{'centre_of_mass': array([ 12.4,  12.4,  12.4]),\n",
       " 'maximum_diameter': {'atom_1': 6,\n",
       "  'atom_2': 69,\n",
       "  'diameter': 21.77602100564755},\n",
       " 'no_of_atoms': 84,\n",
       " 'pore_diameter': {'atom': 36, 'diameter': 5.3970201773100097},\n",
       " 'pore_diameter_opt': {'atom_1': 36,\n",
       "  'centre_of_mass': array([ 12.4,  12.4,  12.4]),\n",
       "  'diameter': 5.3970201773100097},\n",
       " 'pore_volume': 82.311543851543604,\n",
       " 'pore_volume_opt': 82.311543851543604,\n",
       " 'windows': {'centre_of_mass': array([[ 10.77301184,  10.7730221 ,  14.02703257],\n",
       "         [ 14.02096764,  14.02099401,  14.02099029],\n",
       "         [ 13.94105869,  10.85893743,  10.85890308],\n",
       "         [ 10.79398951,  14.00595376,  10.79403717]]),\n",
       "  'diameters': array([ 3.63748192,  3.63649472,  3.62912867,  3.63426077])}}"
      ]
     },
     "execution_count": 6,
     "metadata": {},
     "output_type": "execute_result"
    }
   ],
   "source": [
    "mol.full_analysis()"
   ]
  }
 ],
 "metadata": {
  "kernelspec": {
   "display_name": "Python [conda env:my-rdkit-env]",
   "language": "python",
   "name": "conda-env-my-rdkit-env-py"
  },
  "language_info": {
   "codemirror_mode": {
    "name": "ipython",
    "version": 3
   },
   "file_extension": ".py",
   "mimetype": "text/x-python",
   "name": "python",
   "nbconvert_exporter": "python",
   "pygments_lexer": "ipython3",
   "version": "3.5.2"
  }
 },
 "nbformat": 4,
 "nbformat_minor": 2
}
