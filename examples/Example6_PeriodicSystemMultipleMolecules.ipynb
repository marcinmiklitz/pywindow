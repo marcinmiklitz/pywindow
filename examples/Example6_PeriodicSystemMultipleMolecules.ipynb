{
 "cells": [
  {
   "cell_type": "code",
   "execution_count": 1,
   "metadata": {
    "ExecuteTime": {
     "end_time": "2018-07-17T13:33:57.831384Z",
     "start_time": "2018-07-17T13:33:56.505923Z"
    },
    "collapsed": true,
    "run_control": {
     "frozen": false,
     "read_only": false
    }
   },
   "outputs": [],
   "source": [
    "import pywindow as pw"
   ]
  },
  {
   "cell_type": "code",
   "execution_count": 2,
   "metadata": {
    "ExecuteTime": {
     "end_time": "2018-07-17T13:33:57.858445Z",
     "start_time": "2018-07-17T13:33:57.835334Z"
    },
    "collapsed": true
   },
   "outputs": [],
   "source": [
    "molsys = pw.MolecularSystem.load_file(\"./data/input/PUDXES_no_solvent.pdb\")"
   ]
  },
  {
   "cell_type": "code",
   "execution_count": 3,
   "metadata": {
    "ExecuteTime": {
     "end_time": "2018-07-17T13:34:05.383202Z",
     "start_time": "2018-07-17T13:33:57.862201Z"
    }
   },
   "outputs": [],
   "source": [
    "rebuild_molsys = molsys.rebuild_system()"
   ]
  },
  {
   "cell_type": "code",
   "execution_count": 4,
   "metadata": {
    "ExecuteTime": {
     "end_time": "2018-07-17T13:34:05.429109Z",
     "start_time": "2018-07-17T13:34:05.386811Z"
    }
   },
   "outputs": [],
   "source": [
    "rebuild_molsys.dump_system(\n",
    "    \"./data/output/PUDXES_no_solvent_rebuild.pdb\", override=True\n",
    ")"
   ]
  },
  {
   "cell_type": "code",
   "execution_count": 5,
   "metadata": {
    "ExecuteTime": {
     "end_time": "2018-07-17T13:34:05.820798Z",
     "start_time": "2018-07-17T13:34:05.433238Z"
    },
    "collapsed": true
   },
   "outputs": [],
   "source": [
    "rebuild_molsys.make_modular()"
   ]
  },
  {
   "cell_type": "code",
   "execution_count": 6,
   "metadata": {
    "ExecuteTime": {
     "end_time": "2018-07-17T13:34:24.402160Z",
     "start_time": "2018-07-17T13:34:05.824471Z"
    }
   },
   "outputs": [
    {
     "name": "stdout",
     "output_type": "stream",
     "text": [
      "Analysing molecule 1 out of 8\n",
      "{'no_of_atoms': 168, 'pore_volume_opt': 82.311543851544172, 'pore_diameter_opt': {'diameter': 5.3970201773100221, 'centre_of_mass': array([ 12.4,  12.4,  12.4]), 'atom_1': 6}, 'pore_diameter': {'diameter': 5.3970201773100221, 'atom': 6}, 'maximum_diameter': {'diameter': 22.179369990077188, 'atom_2': 160, 'atom_1': 39}, 'centre_of_mass': array([ 12.4,  12.4,  12.4]), 'pore_volume': 82.311543851544172, 'windows': {'centre_of_mass': array([[ 10.77105707,  10.77097709,  14.02893953],\n",
      "       [ 14.01544862,  14.01541279,  14.01539861],\n",
      "       [ 13.9296554 ,  10.8702975 ,  10.87034148],\n",
      "       [ 10.77542236,  14.02453217,  10.77546634]]), 'diameters': array([ 3.63778745,  3.63562103,  3.62896512,  3.63707237])}} \n",
      "\n",
      "Analysing molecule 2 out of 8\n",
      "{'no_of_atoms': 168, 'pore_volume_opt': 82.311543851544741, 'pore_diameter_opt': {'diameter': 5.3970201773100346, 'centre_of_mass': array([ 18.6,   6.2,   6.2]), 'atom_1': 24}, 'pore_diameter': {'diameter': 5.3970201773100346, 'atom': 24}, 'maximum_diameter': {'diameter': 22.179369990077188, 'atom_2': 166, 'atom_1': 3}, 'centre_of_mass': array([ 18.6,   6.2,   6.2]), 'pore_volume': 82.311543851544741, 'windows': {'centre_of_mass': array([[ 17.00806474,   7.7918699 ,   7.79185888],\n",
      "       [ 20.17788435,   4.62211328,   7.77794697],\n",
      "       [ 16.95030126,   4.55022382,   4.55030523],\n",
      "       [ 20.24158072,   7.84159138,   4.55836779]]), 'diameters': array([ 3.63251205,  3.63115494,  3.64177269,  3.64015484])}} \n",
      "\n",
      "Analysing molecule 3 out of 8\n",
      "{'no_of_atoms': 168, 'pore_volume_opt': 82.311543851544172, 'pore_diameter_opt': {'diameter': 5.3970201773100221, 'centre_of_mass': array([  6.2,  18.6,   6.2]), 'atom_1': 25}, 'pore_diameter': {'diameter': 5.3970201773100221, 'atom': 25}, 'maximum_diameter': {'diameter': 22.179369990077188, 'atom_2': 166, 'atom_1': 3}, 'centre_of_mass': array([  6.2,  18.6,   6.2]), 'pore_volume': 82.311543851544172, 'windows': {'centre_of_mass': array([[  4.6080649 ,  20.19186974,   7.79185873],\n",
      "       [  7.77788435,  17.02211328,   7.77794697],\n",
      "       [  4.55030111,  16.95022367,   4.5503051 ],\n",
      "       [  7.84158072,  20.24159138,   4.55836779]]), 'diameters': array([ 3.63251205,  3.63115494,  3.64177275,  3.64015484])}} \n",
      "\n",
      "Analysing molecule 4 out of 8\n",
      "{'no_of_atoms': 168, 'pore_volume_opt': 82.311543851544172, 'pore_diameter_opt': {'diameter': 5.3970201773100221, 'centre_of_mass': array([  6.2,   6.2,  18.6]), 'atom_1': 24}, 'pore_diameter': {'diameter': 5.3970201773100221, 'atom': 24}, 'maximum_diameter': {'diameter': 22.179369990077188, 'atom_2': 164, 'atom_1': 3}, 'centre_of_mass': array([  6.2,   6.2,  18.6]), 'pore_volume': 82.311543851544172, 'windows': {'centre_of_mass': array([[  4.60806477,   7.79186987,  20.19185885],\n",
      "       [  7.77788435,   4.62211328,  20.17794697],\n",
      "       [  4.55030126,   4.55022382,  16.95030523],\n",
      "       [  7.84158072,   7.84159138,  16.95836779]]), 'diameters': array([ 3.63251205,  3.63115494,  3.64177269,  3.64015484])}} \n",
      "\n",
      "Analysing molecule 5 out of 8\n",
      "{'no_of_atoms': 168, 'pore_volume_opt': 82.311543851544741, 'pore_diameter_opt': {'diameter': 5.3970201773100346, 'centre_of_mass': array([  1.24000000e+01,  -2.92072975e-17,  -2.54322046e-16]), 'atom_1': 22}, 'pore_diameter': {'diameter': 5.3970201773100346, 'atom': 22}, 'maximum_diameter': {'diameter': 22.179369990077191, 'atom_2': 116, 'atom_1': 104}, 'centre_of_mass': array([  1.24000000e+01,  -2.92072975e-17,  -2.54322046e-16]), 'pore_volume': 82.311543851544741, 'windows': {'centre_of_mass': array([[ 10.77105693,  -1.62902304,   1.6289397 ],\n",
      "       [ 14.01544846,   1.6154126 ,   1.61539845],\n",
      "       [ 13.9296554 ,  -1.5297025 ,  -1.52965852],\n",
      "       [ 10.77542236,   1.62453217,  -1.62453366]]), 'diameters': array([ 3.63778751,  3.63562103,  3.62896512,  3.63707237])}} \n",
      "\n",
      "Analysing molecule 6 out of 8\n",
      "{'no_of_atoms': 168, 'pore_volume_opt': 82.311543851544741, 'pore_diameter_opt': {'diameter': 5.3970201773100346, 'centre_of_mass': array([ -3.56050865e-16,   1.24000000e+01,   9.51720783e-17]), 'atom_1': 22}, 'pore_diameter': {'diameter': 5.3970201773100346, 'atom': 22}, 'maximum_diameter': {'diameter': 22.179369990077191, 'atom_2': 122, 'atom_1': 108}, 'centre_of_mass': array([ -3.56050865e-16,   1.24000000e+01,   9.51720783e-17]), 'pore_volume': 82.311543851544741, 'windows': {'centre_of_mass': array([[ -1.62894307,  10.77097696,   1.6289397 ],\n",
      "       [  1.61544848,  14.01541263,   1.61539847],\n",
      "       [  1.52965524,  10.87029766,  -1.52965837],\n",
      "       [ -1.62457764,  14.02453217,  -1.62453366]]), 'diameters': array([ 3.63778751,  3.63562103,  3.62896512,  3.63707237])}} \n",
      "\n",
      "Analysing molecule 7 out of 8\n",
      "{'no_of_atoms': 168, 'pore_volume_opt': 82.311543851544741, 'pore_diameter_opt': {'diameter': 5.3970201773100346, 'centre_of_mass': array([ -6.95411846e-18,  -1.52593228e-16,   1.24000000e+01]), 'atom_1': 22}, 'pore_diameter': {'diameter': 5.3970201773100346, 'atom': 22}, 'maximum_diameter': {'diameter': 22.179369990077191, 'atom_2': 122, 'atom_1': 104}, 'centre_of_mass': array([ -6.95411846e-18,  -1.52593228e-16,   1.24000000e+01]), 'pore_volume': 82.311543851544741, 'windows': {'centre_of_mass': array([[ -1.62894281,  -1.6290228 ,  14.0289394 ],\n",
      "       [  1.61544862,   1.61541279,  14.01539861],\n",
      "       [  1.52965524,  -1.52970234,  10.87034163],\n",
      "       [ -1.62457764,   1.62453217,  10.77546634]]), 'diameters': array([ 3.63778739,  3.63562103,  3.62896512,  3.63707237])}} \n",
      "\n",
      "Analysing molecule 8 out of 8\n",
      "{'no_of_atoms': 168, 'pore_volume_opt': 82.311543851544172, 'pore_diameter_opt': {'diameter': 5.3970201773100221, 'centre_of_mass': array([ 18.6,  18.6,  18.6]), 'atom_1': 23}, 'pore_diameter': {'diameter': 5.3970201773100221, 'atom': 23}, 'maximum_diameter': {'diameter': 22.179369990077191, 'atom_2': 166, 'atom_1': 9}, 'centre_of_mass': array([ 18.6,  18.6,  18.6]), 'pore_volume': 82.311543851544172, 'windows': {'centre_of_mass': array([[ 17.0080649 ,  20.19186974,  20.19185873],\n",
      "       [ 20.17788435,  17.02211328,  20.17794697],\n",
      "       [ 16.95030126,  16.95022382,  16.95030523],\n",
      "       [ 20.24158072,  20.24159138,  16.95836779]]), 'diameters': array([ 3.63251205,  3.63115494,  3.64177269,  3.64015484])}} \n",
      "\n"
     ]
    }
   ],
   "source": [
    "for molecule in rebuild_molsys.molecules:\n",
    "    print(\n",
    "        f\"Analysing molecule {molecule + 1} out of {len(rebuild_molsys.molecules)}\"\n",
    "    )\n",
    "    mol = rebuild_molsys.molecules[molecule]\n",
    "    print(mol.full_analysis(), \"\\n\")\n",
    "    # Each molecule can be saved separately\n",
    "    mol.dump_molecule(\n",
    "        f\"./data/output/PUDXES_no_solvent_rebuild_mol_{molecule}.pdb\",\n",
    "        include_coms=True,\n",
    "        override=True,\n",
    "    )"
   ]
  },
  {
   "cell_type": "markdown",
   "metadata": {},
   "source": [
    "### Another example with a monoclinic unit cell and 3 discrete molecular pores"
   ]
  },
  {
   "cell_type": "code",
   "execution_count": 8,
   "metadata": {
    "ExecuteTime": {
     "end_time": "2018-07-17T13:36:26.150116Z",
     "start_time": "2018-07-17T13:36:17.550818Z"
    }
   },
   "outputs": [
    {
     "name": "stdout",
     "output_type": "stream",
     "text": [
      "Analysing molecule 1 out of 3\n",
      "{'no_of_atoms': 132, 'pore_volume_opt': 77.956489351993511, 'pore_diameter_opt': {'diameter': 5.3001059373333721, 'centre_of_mass': array([ -3.93106222e-05,   9.35731005e+00,   1.56504978e+01]), 'atom_1': 96}, 'pore_diameter': {'diameter': 5.2999265295219633, 'atom': 96}, 'maximum_diameter': {'diameter': 16.043905765919597, 'atom_2': 130, 'atom_1': 23}, 'centre_of_mass': array([  9.40462517e-06,   9.35727968e+00,   1.56504250e+01]), 'pore_volume': 77.948573172645609, 'windows': {'centre_of_mass': array([[ -3.57508502,   6.58799807,  17.22902676],\n",
      "       [ -0.64890246,  15.22138439,  18.47068556],\n",
      "       [  4.25016141,   7.61391107,  17.28768364],\n",
      "       [  5.42756096,  11.73622114,  12.80250252],\n",
      "       [ -0.26913822,   5.94455552,  14.69016071],\n",
      "       [ -2.80582149,  11.2716919 ,  14.70103931]]), 'diameters': array([ 2.00509093,  3.29616929,  2.00663377,  3.3370681 ,  2.30719175,\n",
      "        2.32221521])}} \n",
      "\n",
      "Analysing molecule 2 out of 3\n",
      "{'no_of_atoms': 132, 'pore_volume_opt': 77.95863474639259, 'pore_diameter_opt': {'diameter': 5.3001545572467741, 'centre_of_mass': array([ 8.10374623,  4.67878724,  7.82557001]), 'atom_1': 89}, 'pore_diameter': {'diameter': 5.2993422655565112, 'atom': 89}, 'maximum_diameter': {'diameter': 16.043058073792327, 'atom_2': 71, 'atom_1': 57}, 'centre_of_mass': array([ 8.10361663,  4.67865262,  7.8252094 ]), 'pore_volume': 77.922796859455104, 'windows': {'centre_of_mass': array([[  4.52805649,   1.90916572,   9.4038027 ],\n",
      "       [  7.45449451,  10.54360135,  10.64604147],\n",
      "       [ 12.35378246,   2.93530751,   9.460373  ],\n",
      "       [ 13.53068823,   7.05777652,   4.97722858],\n",
      "       [  7.83446287,   1.2655924 ,   6.86523099],\n",
      "       [  5.29799464,   6.5932151 ,   6.87567761]]), 'diameters': array([ 2.00514587,  3.29658077,  2.0076291 ,  3.33669202,  2.30676811,\n",
      "        2.32216627])}} \n",
      "\n",
      "Analysing molecule 3 out of 3\n",
      "{'no_of_atoms': 132, 'pore_volume_opt': 77.981955217293134, 'pore_diameter_opt': {'diameter': 5.3006829989339703, 'centre_of_mass': array([  1.10603914e-04,   3.00322655e-05,   2.34759699e+01]), 'atom_1': 5}, 'pore_diameter': {'diameter': 5.3002853308997366, 'atom': 5}, 'maximum_diameter': {'diameter': 16.042925268499431, 'atom_2': 116, 'atom_1': 52}, 'centre_of_mass': array([  8.33333333e-05,   1.18356318e-04,   2.34757938e+01]), 'pore_volume': 77.964405438671278, 'windows': {'centre_of_mass': array([[ -3.57555297,  -2.76906725,  25.05544927],\n",
      "       [ -0.64894239,   5.86476986,  26.29610162],\n",
      "       [  4.24985196,  -1.74348104,  25.11251292],\n",
      "       [  5.42724047,   2.37933973,  20.62637274],\n",
      "       [ -0.26928676,  -3.41227298,  22.51588972],\n",
      "       [ -2.80537935,   1.91557804,  22.52649144]]), 'diameters': array([ 2.0044412 ,  3.29680913,  2.00736204,  3.33799379,  2.30763494,\n",
      "        2.32165226])}} \n",
      "\n"
     ]
    }
   ],
   "source": [
    "molsys = pw.MolecularSystem.load_file(\"./data/input/EPIRUR_no_solvent.pdb\")\n",
    "rebuild_molsys = molsys.rebuild_system()\n",
    "rebuild_molsys.dump_system(\n",
    "    \"./data/output/EPIRUR_no_solvent_rebuild.pdb\", override=True\n",
    ")\n",
    "rebuild_molsys.make_modular()\n",
    "\n",
    "for molecule in rebuild_molsys.molecules:\n",
    "    print(\n",
    "        f\"Analysing molecule {molecule + 1} out of {len(rebuild_molsys.molecules)}\"\n",
    "    )\n",
    "    mol = rebuild_molsys.molecules[molecule]\n",
    "    print(mol.full_analysis(), \"\\n\")\n",
    "    # Each molecule can be saved separately\n",
    "    mol.dump_molecule(\n",
    "        f\"./data/output/EPIRUR_no_solvent_rebuild_mol_{molecule}.pdb\",\n",
    "        include_coms=True,\n",
    "        override=True,\n",
    "    )"
   ]
  },
  {
   "cell_type": "markdown",
   "metadata": {},
   "source": [
    "### Another example with a triclinic unit cell and 2 discrete molecular pores"
   ]
  },
  {
   "cell_type": "code",
   "execution_count": 9,
   "metadata": {
    "ExecuteTime": {
     "end_time": "2018-07-17T13:36:59.280488Z",
     "start_time": "2018-07-17T13:36:46.736038Z"
    }
   },
   "outputs": [
    {
     "name": "stdout",
     "output_type": "stream",
     "text": [
      "Analysing molecule 1 out of 2\n",
      "{'no_of_atoms': 244, 'pore_volume_opt': 477.5395402757328, 'pore_diameter_opt': {'diameter': 9.6977333431968784, 'centre_of_mass': array([  9.61568815,  15.38945731,  18.356231  ]), 'atom_1': 175}, 'pore_diameter': {'diameter': 9.5618906544273035, 'atom': 71}, 'maximum_diameter': {'diameter': 29.718709420567329, 'atom_2': 243, 'atom_1': 13}, 'centre_of_mass': array([  9.8069714 ,  15.21626983,  18.38254609]), 'pore_volume': 457.75167408412602, 'windows': {'centre_of_mass': array([[  8.64613173,  13.99368092,  20.82749396],\n",
      "       [ 15.27623749,  14.03211251,  18.78371326],\n",
      "       [  7.93359245,  20.06576608,  18.90305695],\n",
      "       [  8.48616679,  14.27853608,  14.72280858]]), 'diameters': array([ 8.49367369,  9.09581185,  8.81853449,  7.75061815])}} \n",
      "\n",
      "Analysing molecule 2 out of 2\n",
      "{'no_of_atoms': 244, 'pore_volume_opt': 477.54078784832939, 'pore_diameter_opt': {'diameter': 9.6977417883026842, 'centre_of_mass': array([ 19.17126673,   5.68399392,   3.24614256]), 'atom_1': 78}, 'pore_diameter': {'diameter': 9.5617853509221113, 'atom': 78}, 'maximum_diameter': {'diameter': 29.71742024614931, 'atom_2': 243, 'atom_1': 14}, 'centre_of_mass': array([ 19.09548327,   5.7537699 ,   3.24490551]), 'pore_volume': 457.73655082241476, 'windows': {'centre_of_mass': array([[ 20.57635233,   6.79058955,   7.2579067 ],\n",
      "       [ 15.64167248,   6.58681621,   3.26832179],\n",
      "       [ 20.39831277,   3.0476932 ,   3.26010817],\n",
      "       [ 20.26530191,   6.98860404,   0.78049266]]), 'diameters': array([ 7.81671522,  8.52499906,  8.76121118,  8.49314974])}} \n",
      "\n"
     ]
    }
   ],
   "source": [
    "molsys = pw.MolecularSystem.load_file(\"./data/input/TATVER_no_solvent.pdb\")\n",
    "rebuild_molsys = molsys.rebuild_system()\n",
    "rebuild_molsys.dump_system(\n",
    "    \"./data/output/TATVER_no_solvent_rebuild.pdb\", override=True\n",
    ")\n",
    "rebuild_molsys.make_modular()\n",
    "\n",
    "for molecule in rebuild_molsys.molecules:\n",
    "    print(\n",
    "        f\"Analysing molecule {molecule + 1} out of {len(rebuild_molsys.molecules)}\"\n",
    "    )\n",
    "    mol = rebuild_molsys.molecules[molecule]\n",
    "    print(mol.full_analysis(), \"\\n\")\n",
    "    # Each molecule can be saved separately\n",
    "    mol.dump_molecule(\n",
    "        f\"./data/output/TATVER_no_solvent_rebuild_mol_{molecule}.pdb\",\n",
    "        include_coms=True,\n",
    "        override=True,\n",
    "    )"
   ]
  },
  {
   "cell_type": "code",
   "execution_count": null,
   "metadata": {
    "collapsed": true
   },
   "outputs": [],
   "source": []
  }
 ],
 "metadata": {
  "kernelspec": {
   "display_name": "Python [default]",
   "language": "python",
   "name": "python3"
  },
  "language_info": {
   "codemirror_mode": {
    "name": "ipython",
    "version": 3
   },
   "file_extension": ".py",
   "mimetype": "text/x-python",
   "name": "python",
   "nbconvert_exporter": "python",
   "pygments_lexer": "ipython3",
   "version": "3.5.4"
  }
 },
 "nbformat": 4,
 "nbformat_minor": 2
}
